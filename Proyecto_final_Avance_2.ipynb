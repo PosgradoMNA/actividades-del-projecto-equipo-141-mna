{
  "nbformat": 4,
  "nbformat_minor": 0,
  "metadata": {
    "colab": {
      "provenance": [],
      "authorship_tag": "ABX9TyPyMeGfqJm/SeE2KPmRgp1Q",
      "include_colab_link": true
    },
    "kernelspec": {
      "name": "python3",
      "display_name": "Python 3"
    },
    "language_info": {
      "name": "python"
    }
  },
  "cells": [
    {
      "cell_type": "markdown",
      "metadata": {
        "id": "view-in-github",
        "colab_type": "text"
      },
      "source": [
        "<a href=\"https://colab.research.google.com/github/PosgradoMNA/actividades-del-projecto-equipo-141-mna/blob/main/Proyecto_final_Avance_2.ipynb\" target=\"_parent\"><img src=\"https://colab.research.google.com/assets/colab-badge.svg\" alt=\"Open In Colab\"/></a>"
      ]
    },
    {
      "cell_type": "code",
      "execution_count": null,
      "metadata": {
        "id": "09OIJCqcRTMN"
      },
      "outputs": [],
      "source": []
    },
    {
      "cell_type": "markdown",
      "source": [
        "1. Identificar una metodología que vas a usar durante la realización del proyecto\n",
        "\n",
        "Metodologia: CRISP-DM\n",
        "\n",
        "2. Escribe los pasos estándares en un máximo de 3 oraciones, por cada fase\n",
        "\n",
        "1.- Entendimiento del negocio: Se concentra en enteder las necesidades del cliente y entendimiento del negocio para generar proyectos con objetivos claves con sus requerimientos y delimitaciones.\n",
        "\n",
        "2.- Compresión de datos: es la familiarización de los datos a través de la recopilación de datos y analísis profundo de los datos que ayudan a lograr los objetivos del proyecto.\n",
        "\n",
        "3.- Preparación de datos: es la preparación de un conjunto de datos para seleccionar, limpiar y  agregar más datos omplementarios que puenda ser combinados.\n",
        "\n",
        "4.- Modelando: seleccionar, aplicar y evaluar diferentes tecnicas de modelado tecnicos adecuadas para el cumplimiento del objetivo.\n",
        "\n",
        "5. Evaluación: es evaluar de manera más analítica y amplia sobre los modelos para que sean adaptados al negocio.\n",
        "\n",
        "6.- Despliegue:\n",
        "\n",
        "\n",
        "\n",
        "3. Documenta el proceso en jupyter notebook. "
      ],
      "metadata": {
        "id": "6hO65ot6LcVV"
      }
    },
    {
      "cell_type": "markdown",
      "source": [
        "Proyecto final - Avance 2\n"
      ],
      "metadata": {
        "id": "lhz8A2AsSd5p"
      }
    }
  ]
}