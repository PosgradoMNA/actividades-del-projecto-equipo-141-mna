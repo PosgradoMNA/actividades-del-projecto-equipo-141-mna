{
  "nbformat": 4,
  "nbformat_minor": 0,
  "metadata": {
    "colab": {
      "provenance": [],
      "include_colab_link": true
    },
    "kernelspec": {
      "name": "python3",
      "display_name": "Python 3"
    },
    "language_info": {
      "name": "python"
    }
  },
  "cells": [
    {
      "cell_type": "markdown",
      "metadata": {
        "id": "view-in-github",
        "colab_type": "text"
      },
      "source": [
        "<a href=\"https://colab.research.google.com/github/PosgradoMNA/actividades-del-projecto-equipo-141-mna/blob/main/Proyecto_final_Avance_2.ipynb\" target=\"_parent\"><img src=\"https://colab.research.google.com/assets/colab-badge.svg\" alt=\"Open In Colab\"/></a>"
      ]
    },
    {
      "cell_type": "markdown",
      "source": [
        "Proyecto final - Avance 2\n",
        "---"
      ],
      "metadata": {
        "id": "lhz8A2AsSd5p"
      }
    },
    {
      "cell_type": "markdown",
      "source": [
        "1. Identificar una metodología que vas a usar durante la realización del proyecto\n",
        "\n",
        "> * Metodologia: CRISP-DM\n",
        "\n",
        "2. Escribe los pasos estándares en un máximo de 3 oraciones, por cada fase\n",
        "  1. Entendimiento del negocio: Se concentra en entender las necesidades del cliente y del negocio para así generar proyectos con objetivos claves con  requerimientos y delimitaciones claros.\n",
        "  2. Entendimiento de los datos: Va desde la recopilación inicial de datos hasta la familiarización de los datos, seguido de un análisis profundo de los mismos para lograr comprender de mejor manera a los sets de datos con el que se trabajará.\n",
        "  3. Preparación de datos: es la preparación de un conjunto de datos para seleccionar, limpiar y  agregar más datos complementarios que puedan ser combinados o integrados posteriormente.\n",
        "  4. Modelado: seleccionar, aplicar y evaluar diferentes técnicas de modelado para determinar cual es la forma más adecuada que se pueda utilizar para asegurar el cumplimiento del objetivo.\n",
        "  5. Evaluación: es evaluar de manera más analítica y amplia sobre los modelos para que sean adaptados al negocio.\n",
        "  6. Despliegue: es la planificación de implementación, supervisión y la presentación de los resultados obtenidos del proyecto de manera documentada. También se hace una evaluación de lecciones aprendidas durante la elaboración del proyecto.\n",
        "\n",
        "3. Documenta el proceso en Jupyter notebook. "
      ],
      "metadata": {
        "id": "6hO65ot6LcVV"
      }
    }
  ]
}