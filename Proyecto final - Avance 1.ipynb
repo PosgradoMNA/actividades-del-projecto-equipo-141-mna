{
  "nbformat": 4,
  "nbformat_minor": 0,
  "metadata": {
    "colab": {
      "provenance": [],
      "include_colab_link": true
    },
    "kernelspec": {
      "name": "python3",
      "display_name": "Python 3"
    },
    "language_info": {
      "name": "python"
    }
  },
  "cells": [
    {
      "cell_type": "markdown",
      "metadata": {
        "id": "view-in-github",
        "colab_type": "text"
      },
      "source": [
        "<a href=\"https://colab.research.google.com/github/PosgradoMNA/actividades-del-projecto-equipo-141-mna/blob/main/Proyecto%20final%20-%20Avance%201.ipynb\" target=\"_parent\"><img src=\"https://colab.research.google.com/assets/colab-badge.svg\" alt=\"Open In Colab\"/></a>"
      ]
    },
    {
      "cell_type": "markdown",
      "source": [
        "Proyecto final - Avance 1"
      ],
      "metadata": {
        "id": "ham1YUKQWK2D"
      }
    },
    {
      "cell_type": "markdown",
      "source": [
        "El nombre que caracteriza el conjunto de datos: USA Real Estate Dataset\n",
        "\n",
        "La organización que lo generó: Ahmed Shahriar Sakib (contribuidor de Kaggle). Los datos fueron \"scraped\" de https://www.realtor.com/.\n",
        "\n",
        "Incluya un enlace de Internet donde se puedan descargar el base de datos en línea: https://www.kaggle.com/datasets/ahmedshahriarsakib/usa-real-estate-dataset?resource=download\n",
        "\n",
        "Describe el conjunto de datos. ¿Qué datos contiene?:\n",
        "Los datos contienen las siguientes columnas:\n",
        "* status: Describe si esta en venta o no.\n",
        "* price: El precio de la residencia.\n",
        "* bed: Número de camas disponibles.\n",
        "* bath: Número de baños disponibles.\n",
        "* acre_lot: Tamaño del terreno.\n",
        "* full_address: Dirección completa.\n",
        "* street: Calle.\n",
        "* city: Ciudad.\n",
        "* state: Estado.\n",
        "* zip_code: Código postal.\n",
        "* house_size: Tamaño de la casa en pies cuadrados.\n",
        "* sold_date: Fecha en que se vendió la casa (si ya se vendió).\n",
        "\n",
        "¿Cuáles son algunas de las preguntas de investigación que podría responder con estos datos? Enumere al menos OCHO (no responda las preguntas):\n",
        "\n",
        "1. Qué factores de construcción son los que principalmente afectan al precio final de una casa?\n",
        "2. Ha habido una tendencia a la alza desproporcionada de los precios de residencias en los ultimos años?\n",
        "3. Hay suficiente oferta de casas para la demanda actual?\n",
        "4. Qué factores de ubicación son los que conllevan a que suba el precio de una casa?\n",
        "5. Qúe estados (o ciudades) de EUA son los que tienen una mejor relación entre el precio y lo que obtiene por dicho precio?\n",
        "6. Se puede detectar alguna tendencia en cuanto a los precios de casas a través del tiempo?\n",
        "7. prueba\n",
        "8. \n",
        "9. \n",
        "10. \n",
        "\n",
        "¿Qué actor (empresa, sector de la sociedad, organismo descentralizado, gobierno, etc.) estaría interesado en las preguntas mencionadas que identificó?\n",
        "\n",
        "La población que esté buscando comprar una casa, inmobiliarias o empresas de bienes raíces, el gobierno y las dependencias dedicadas a desarrollo económico o a ayuda social."
      ],
      "metadata": {
        "id": "aKRPvxQGWO3F"
      }
    }
  ]
}